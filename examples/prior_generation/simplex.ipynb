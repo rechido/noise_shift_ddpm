{
 "cells": [
  {
   "cell_type": "code",
   "execution_count": 2,
   "metadata": {},
   "outputs": [],
   "source": [
    "import torch\n",
    "\n",
    "def create_simplex_points(N: int):\n",
    "    I = torch.eye(N)\n",
    "    ones = torch.ones(N)\n",
    "    us = I - (1.0 / N) * ones.unsqueeze(dim=1)  # (N,N)\n",
    "\n",
    "    # SVD\n",
    "    U, S, V = torch.svd(us)\n",
    "    B = V[:, :N-1]  # (N, N-1)\n",
    "    points_nminus1 = us @ B  # (N, N-1)\n",
    "    return points_nminus1\n",
    "\n",
    "def random_orthonormal_embed(points_nminus1: torch.Tensor, D: int):\n",
    "    N, dim = points_nminus1.shape  # dim = N-1\n",
    "    if dim > D:\n",
    "        raise ValueError(f\"dim = {dim}, but D={D} < dim. Equidistant embedding is impossible.\")\n",
    "\n",
    "    M = torch.randn(D, dim)  # (D, N-1)\n",
    "\n",
    "    Q, R = torch.linalg.qr(M)  # (D, dim)\n",
    "\n",
    "    out = points_nminus1 @ Q.transpose(0,1)  # (N, D)\n",
    "    return out\n",
    "\n",
    "def scale_to_target_norm(points: torch.Tensor, target_norm: float):\n",
    "    norms = torch.norm(points, dim=1, p=2, keepdim=True)  # (N, 1)\n",
    "    scaled_points = points * (target_norm / norms)  # (N, D)\n",
    "    return scaled_points\n",
    "\n",
    "def pairwise_distance_stats(pts: torch.Tensor):\n",
    "    dist_mat = torch.cdist(pts, pts, p=2)  # (N,N)\n",
    "    N = pts.shape[0]\n",
    "\n",
    "    mask = torch.triu(torch.ones(N, N), diagonal=1).bool()\n",
    "    pairwise_dists = dist_mat[mask]  # (N*(N-1)/2,)\n",
    "\n",
    "    mean_pairwise_dist = pairwise_dists.mean()\n",
    "    std_pairwise_dist = pairwise_dists.std()\n",
    "\n",
    "    tdm_pairwise = torch.sum(torch.abs(pairwise_dists - mean_pairwise_dist))\n",
    "\n",
    "    norms = torch.norm(pts, dim=1, p=2)\n",
    "    mean_norm = norms.mean()\n",
    "    std_norm = norms.std()\n",
    "\n",
    "    tdm_norms = torch.sum(torch.abs(norms - mean_norm))\n",
    "\n",
    "    return (pairwise_dists, mean_pairwise_dist, std_pairwise_dist, tdm_pairwise,\n",
    "            norms, mean_norm, std_norm, tdm_norms)"
   ]
  },
  {
   "cell_type": "code",
   "execution_count": 3,
   "metadata": {},
   "outputs": [
    {
     "name": "stdout",
     "output_type": "stream",
     "text": [
      "== 10-point simplex in 3072-dim (random orthonormal embedding) ==\n",
      "Scaled to target norm: 0.01\n",
      "Pairwise distances: tensor([0.0149, 0.0149, 0.0149, 0.0149, 0.0149, 0.0149, 0.0149, 0.0149, 0.0149,\n",
      "        0.0149, 0.0149, 0.0149, 0.0149, 0.0149, 0.0149, 0.0149, 0.0149, 0.0149,\n",
      "        0.0149, 0.0149, 0.0149, 0.0149, 0.0149, 0.0149, 0.0149, 0.0149, 0.0149,\n",
      "        0.0149, 0.0149, 0.0149, 0.0149, 0.0149, 0.0149, 0.0149, 0.0149, 0.0149,\n",
      "        0.0149, 0.0149, 0.0149, 0.0149, 0.0149, 0.0149, 0.0149, 0.0149, 0.0149])\n",
      "Mean pairwise distance = 0.014907, Std = 0.000000\n",
      "Total deviation from mean (pairwise) = 0.000000\n",
      "\n",
      "Distance from origin: tensor([0.0100, 0.0100, 0.0100, 0.0100, 0.0100, 0.0100, 0.0100, 0.0100, 0.0100,\n",
      "        0.0100])\n",
      "Mean norm = 0.010000, Std = 0.000000\n",
      "Total deviation from mean (norms) = 0.000000\n"
     ]
    }
   ],
   "source": [
    "N = 10\n",
    "D = 3 * 32 * 32\n",
    "target_norm = 0.01\n",
    "\n",
    "points_nminus1 = create_simplex_points(N)   # (N,N-1)\n",
    "\n",
    "points_D = random_orthonormal_embed(points_nminus1, D)  # (N, D)\n",
    "\n",
    "points_scaled = scale_to_target_norm(points_D, target_norm)\n",
    "\n",
    "(pairwise_dists, mean_pd, std_pd, tdm_pd,\n",
    "    norms, mean_n, std_n, tdm_n) = pairwise_distance_stats(points_scaled)\n",
    "\n",
    "print(f\"== {N}-point simplex in {D}-dim (random orthonormal embedding) ==\")\n",
    "print(f\"Scaled to target norm: {target_norm}\")\n",
    "print(\"Pairwise distances:\", pairwise_dists)\n",
    "print(f\"Mean pairwise distance = {mean_pd:.6f}, Std = {std_pd:.6f}\")\n",
    "print(f\"Total deviation from mean (pairwise) = {tdm_pd:.6f}\")\n",
    "\n",
    "print(\"\\nDistance from origin:\", norms)\n",
    "print(f\"Mean norm = {mean_n:.6f}, Std = {std_n:.6f}\")\n",
    "print(f\"Total deviation from mean (norms) = {tdm_n:.6f}\")\n",
    "\n",
    "torch.save(points_scaled, f\"prior_mean_simplex_{D}dim_{N}point_radius{target_norm}.pt\")"
   ]
  },
  {
   "cell_type": "code",
   "execution_count": null,
   "metadata": {},
   "outputs": [],
   "source": []
  }
 ],
 "metadata": {
  "kernelspec": {
   "display_name": "Python 3",
   "language": "python",
   "name": "python3"
  },
  "language_info": {
   "codemirror_mode": {
    "name": "ipython",
    "version": 3
   },
   "file_extension": ".py",
   "mimetype": "text/x-python",
   "name": "python",
   "nbconvert_exporter": "python",
   "pygments_lexer": "ipython3",
   "version": "3.10.12"
  }
 },
 "nbformat": 4,
 "nbformat_minor": 2
}
