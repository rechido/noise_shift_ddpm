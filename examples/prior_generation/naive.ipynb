{
 "cells": [
  {
   "cell_type": "code",
   "execution_count": 9,
   "metadata": {},
   "outputs": [
    {
     "name": "stdout",
     "output_type": "stream",
     "text": [
      "torch.Size([10, 3072])\n",
      "tensor([[50, 50, 50,  ..., 50, 50, 50],\n",
      "        [50, 50, 50,  ..., 50, 50, 50],\n",
      "        [50, 50, 50,  ..., 50, 50, 50],\n",
      "        ...,\n",
      "        [50, 50, 50,  ..., 50, 50, 50],\n",
      "        [50, 50, 50,  ..., 50, 50, 50],\n",
      "        [50, 50, 50,  ..., 50, 50, 50]])\n"
     ]
    }
   ],
   "source": [
    "import torch\n",
    "\n",
    "channels = 3\n",
    "height = 32\n",
    "width = 32\n",
    "D = channels * height * width  # 3072 latent dimensions\n",
    "N = 10 # number of priors\n",
    "c = 50 # scaling factor\n",
    "\n",
    "mu = torch.full((N, D), c)\n",
    "print(mu.shape)\n",
    "print(mu)\n",
    "\n",
    "torch.save(mu, f\"naive_{D}dim_{N}point_constant{c}.pt\")\n"
   ]
  }
 ],
 "metadata": {
  "kernelspec": {
   "display_name": "Python 3",
   "language": "python",
   "name": "python3"
  },
  "language_info": {
   "codemirror_mode": {
    "name": "ipython",
    "version": 3
   },
   "file_extension": ".py",
   "mimetype": "text/x-python",
   "name": "python",
   "nbconvert_exporter": "python",
   "pygments_lexer": "ipython3",
   "version": "3.10.12"
  }
 },
 "nbformat": 4,
 "nbformat_minor": 2
}
